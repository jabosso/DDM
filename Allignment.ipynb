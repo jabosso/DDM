import import_ipynb
import matplotlib.pyplot as plt
import numpy as np
import tensorflow as tf
import scipy.misc
from UtilFunction import getNpImage
from UtilFunction import getThreshold

class Histogram():
    def __init__(self,path):
        img = getNpImage(path)
        
        threshold = getThreshold(path)
        
        self.frequency = self.calculateHistogram(img, threshold)
        
    def calculateHistogram(self, img, threshold):
        _,self.h, l = img.shape
        freq = np.empty(1)
       
        for i in range (self.h):
            a = 0         
            for j in range (l):
                if (img[0][i][j] > threshold):
                    a += 1  
                    
            c = np.expand_dims(a, axis = 0)
            
            #print(c)
            freq = np.concatenate((freq,c ),axis=0) 
        
        return freq[2:]
    
def tprova(path1,path2):
    numImg1 = tf.convert_to_tensor(getNpImage(path1))    
    numImg2 = tf.convert_to_tensor(getNpImage(path2))
    with tf.Session() as sess:         
        num1=numImg1.eval()
        num2=numImg2.eval()    
    rr =num2-num1
    print(num1[0].max)
    print(num1[0].min)
    _,  h, w = rr.shape
    for i in range(h):
        for j in range(w):
            if rr[0][i][j]>150:
                rr[0][i][j]=0
            else: 
                 rr[0][i][j]=255
            
    rf =num1-num2
    _,  h, w = rf.shape
    for i in range(h):
        for j in range(w):
            if rf[0][i][j]>150:
                rf[0][i][j]=0
            else: 
                rf[0][i][j]=255
    bfronte = -num1[0]+255
    for i in range(h):
        for j in range(w):
            if bfronte[i][j]<150:
                bfronte[i][j]=0
            else:
                bfronte[i][j]=255
    for i in range(h):
        for j in range(w):
            if bfronte[i][j]==255:
                bfronte[i][j]=0 
            else:   
                bfronte[i][j]=255
                
    bfronte= num1[0]-bfronte
    for i in range(h):
        for j in range(w):
            if bfronte[i][j]<=0:
                bfronte[i][j]=255 
            else:   
                bfronte[i][j]=0
    bfronte= -(127.5+num1[0]-bfronte)+127.5            
    return bfronte, rf[0]
path1 = 'fronte.jfif' 
histogram1 = Histogram(path1)
path2 = 'retro.jfif'
histogram2 = Histogram(path2)
f, r= tprova(path1,path2) 

el = r+f
#print(r[0])
#plt.plot(r[0])

h1 = plt.plot(histogram1.frequency) 
h2 = plt.plot(histogram2.frequency)
plt.title("Histogram")
plt.show()
#plt.imshow(r, cmap='Greys')
scipy.misc.imsave('rbleed.jpg',r)
scipy.misc.imsave('fbleed.jpg',f)
#scipy.misc.imsave('outfile.jpg', el)
