{
 "cells": [
  {
   "cell_type": "code",
   "execution_count": 1,
   "metadata": {
    "scrolled": false
   },
   "outputs": [
    {
     "name": "stdout",
     "output_type": "stream",
     "text": [
      "importing Jupyter notebook from UtilFunction.ipynb\n"
     ]
    },
    {
     "ename": "SyntaxError",
     "evalue": "invalid syntax (<string>, line 34)",
     "output_type": "error",
     "traceback": [
      "\u001b[0;36m  File \u001b[0;32m\"<string>\"\u001b[0;36m, line \u001b[0;32m34\u001b[0m\n\u001b[0;31m    print (tf.reduce:max(avgImg).eval())\u001b[0m\n\u001b[0m                    ^\u001b[0m\n\u001b[0;31mSyntaxError\u001b[0m\u001b[0;31m:\u001b[0m invalid syntax\n"
     ]
    }
   ],
   "source": [
    "import import_ipynb\n",
    "import matplotlib.pyplot as plt\n",
    "import numpy as np\n",
    "import tensorflow as tf\n",
    "\n",
    "from UtilFunction import getNpImage\n",
    "from UtilFunction import getThreshold\n",
    "\n",
    "class Histogram():\n",
    "    def __init__(self,path):\n",
    "        img = getNpImage(path)\n",
    "        threshold = getThreshold(path)\n",
    "        self.frequency = self.calculateHistogram(img, threshold)\n",
    "    \n",
    "    def calculateHistogram(self, img, threshold):\n",
    "        with tf.Session() as sess:     \n",
    "            print(sess.run(threshold))\n",
    "        _,self.h, l = img.shape\n",
    "        freq = []\n",
    "        freq = np.empty(1)\n",
    "        #freq = np.expand_dims(freq, axis = 0)\n",
    "        for i in range (self.h):\n",
    "            a = 0\n",
    "            for j in range (l):\n",
    "                if img[0][i][j] < threshold:\n",
    "                    a += 1  \n",
    "                    print(a)\n",
    "            c = np.expand_dims(a, axis = 0)\n",
    "            #print(c)\n",
    "            freq = np.concatenate((freq,c ),axis=0) \n",
    "            \n",
    "        return np.array(freq)\n",
    "    \n",
    "path = 'Recto1.jpeg'  \n",
    "histogram1 = Histogram(path)\n",
    "vect = np.arange(histogram1.h+1)\n",
    "print(histogram1.frequency)\n",
    "#plt.hist(histogram1.frequency, normed = True)\n",
    "#np.histogram(histogram1.frequency)\n",
    "plt.hist(histogram1.frequency) \n",
    "plt.title(\"Histogram\")\n",
    "plt.show()"
   ]
  },
  {
   "cell_type": "code",
   "execution_count": null,
   "metadata": {},
   "outputs": [],
   "source": []
  },
  {
   "cell_type": "code",
   "execution_count": null,
   "metadata": {},
   "outputs": [],
   "source": []
  }
 ],
 "metadata": {
  "kernelspec": {
   "display_name": "Python (myenv)",
   "language": "python",
   "name": "myenv"
  }
 },
 "nbformat": 4,
 "nbformat_minor": 2
}
