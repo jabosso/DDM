{
 "cells": [
  {
   "cell_type": "code",
   "execution_count": 4,
   "metadata": {
    "scrolled": false
   },
   "outputs": [
    {
     "name": "stdout",
     "output_type": "stream",
     "text": [
      "(1, 600, 247)\n",
      "(1, 598, 247)\n",
      "(1, 598, 247)\n",
      "203.9796\n",
      "254.97453\n"
     ]
    },
    {
     "data": {
      "image/png": "[encoded data removed]",
      "text/plain": [
       "<Figure size 432x288 with 1 Axes>"
      ]
     },
     "metadata": {
      "needs_background": "light"
     },
     "output_type": "display_data"
    }
   ],
   "source": [
    "import import_ipynb\n",
    "import matplotlib.pyplot as plt\n",
    "import numpy as np\n",
    "import tensorflow as tf\n",
    "\n",
    "from UtilFunction import getNpImage\n",
    "from UtilFunction import getThreshold\n",
    "\n",
    "class Histogram():\n",
    "    def __init__(self,path):\n",
    "        img = getNpImage(path)\n",
    "        print(img.shape)\n",
    "        threshold = getThreshold(path)\n",
    "        threshold = 150\n",
    "        self.frequency = self.calculateHistogram(img, threshold)\n",
    "    \n",
    "    def calculateHistogram(self, img, threshold):\n",
    "        _,self.h, l = img.shape\n",
    "        freq = np.empty(1)\n",
    "        for i in range (self.h):\n",
    "            a = 0\n",
    "            for j in range (l):\n",
    "                if img[0][i][j] < threshold:\n",
    "                    a += 1  \n",
    "            c = np.expand_dims(a, axis = 0)\n",
    "            #print(c)\n",
    "            freq = np.concatenate((freq,c ),axis=0) \n",
    "        \n",
    "        return freq\n",
    "    \n",
    "path = 'scalagrigi.png'  \n",
    "\n",
    "histogram1 = Histogram(path)\n",
    "vect = np.arange(histogram1.h)\n",
    "\n",
    "plt.hist(histogram1.frequency) \n",
    "plt.title(\"Histogram\")\n",
    "#plt.axis([0, 400, 0, 300])\n",
    "plt.show()"
   ]
  },
  {
   "cell_type": "code",
   "execution_count": null,
   "metadata": {},
   "outputs": [],
   "source": []
  },
  {
   "cell_type": "code",
   "execution_count": null,
   "metadata": {},
   "outputs": [],
   "source": []
  }
 ],
 "metadata": {
  "kernelspec": {
   "display_name": "Python (myenv)",
   "language": "python",
   "name": "myenv"
  },
  "language_info": {
   "codemirror_mode": {
    "name": "ipython",
    "version": 2
   },
   "file_extension": ".py",
   "mimetype": "text/x-python",
   "name": "python",
   "nbconvert_exporter": "python",
   "pygments_lexer": "ipython2",
   "version": "2.7.15"
  }
 },
 "nbformat": 4,
 "nbformat_minor": 2
}
