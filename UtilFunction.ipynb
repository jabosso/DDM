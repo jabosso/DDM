{
 "cells": [
  {
   "cell_type": "code",
   "execution_count": 2,
   "metadata": {},
   "outputs": [
    {
     "name": "stderr",
     "output_type": "stream",
     "text": [
      "Using TensorFlow backend.\n"
     ]
    }
   ],
   "source": [
    "from keras.preprocessing import image\n",
    "import tensorflow as tf\n",
    "import keras.backend as K\n",
    "from keras import optimizers\n",
    "from keras.preprocessing import image\n",
    "import matplotlib.pyplot as plt\n",
    "import matplotlib.image as mplt\n",
    "from keras import layers\n",
    "from keras import models\n",
    "import glob\n",
    "import numpy as np\n",
    "import functools as ft\n",
    "\n",
    "def getNpImage(path):\n",
    "    img = image.load_img(path)\n",
    "    npImg= image.img_to_array(img)  \n",
    "    grayImg = rgb2gray(npImg)\n",
    "    grayImg = np.expand_dims(grayImg,axis = 0)\n",
    "    return grayImg\n",
    "    \n",
    "def rgb2gray(rgb):\n",
    "    r, g, b = rgb[:,:,0], rgb[:,:,1], rgb[:,:,2]\n",
    "    gray = 0.2989 *r + 0.5870 * g + 0.1140 * b\n",
    "    return gray  \n",
    "\n",
    "def getThreshold(path):\n",
    "    numImg = tf.convert_to_tensor(getNpImage(path))\n",
    "    avgImg = layers.AveragePooling1D(pool_size=(3),strides=(1))(numImg)\n",
    "    \n",
    "    #threshold=np.max(avgImg)\n",
    "    threshold=tf.reduce_max(avgImg)\n",
    "    with tf.Session() as sess:     \n",
    "        print(sess.run(avgImg))\n",
    "        print (tf.reduce_max(avgImg).eval())\n",
    "   \n",
    "    return threshold"
   ]
  },
  {
   "cell_type": "code",
   "execution_count": null,
   "metadata": {},
   "outputs": [],
   "source": []
  }
 ],
 "metadata": {
  "kernelspec": {
   "display_name": "Python (myenv)",
   "language": "python",
   "name": "myenv"
  },
  "language_info": {
   "codemirror_mode": {
    "name": "ipython",
    "version": 2
   },
   "file_extension": ".py",
   "mimetype": "text/x-python",
   "name": "python",
   "nbconvert_exporter": "python",
   "pygments_lexer": "ipython2",
   "version": "2.7.15"
  }
 },
 "nbformat": 4,
 "nbformat_minor": 2
}
